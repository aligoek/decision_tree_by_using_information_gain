{
 "cells": [
  {
   "cell_type": "markdown",
   "metadata": {},
   "source": [
    "# Trees and Forests\n",
    "\n",
    "\n",
    "\n",
    "## Training a Decision Tree Classifier"
   ]
  },
  {
   "cell_type": "markdown",
   "metadata": {},
   "source": [
    "### Load Data From CSV File"
   ]
  },
  {
   "cell_type": "code",
   "execution_count": 12,
   "metadata": {},
   "outputs": [],
   "source": [
    "import numpy as np\n",
    "import matplotlib.pyplot as plt\n",
    "from matplotlib.ticker import NullFormatter\n",
    "import pandas as pd\n",
    "from sklearn import preprocessing\n",
    "%matplotlib inline"
   ]
  },
  {
   "cell_type": "code",
   "execution_count": 13,
   "metadata": {},
   "outputs": [
    {
     "data": {
      "text/html": [
       "<div>\n",
       "<style scoped>\n",
       "    .dataframe tbody tr th:only-of-type {\n",
       "        vertical-align: middle;\n",
       "    }\n",
       "\n",
       "    .dataframe tbody tr th {\n",
       "        vertical-align: top;\n",
       "    }\n",
       "\n",
       "    .dataframe thead th {\n",
       "        text-align: right;\n",
       "    }\n",
       "</style>\n",
       "<table border=\"1\" class=\"dataframe\">\n",
       "  <thead>\n",
       "    <tr style=\"text-align: right;\">\n",
       "      <th></th>\n",
       "      <th>region</th>\n",
       "      <th>tenure</th>\n",
       "      <th>age</th>\n",
       "      <th>marital</th>\n",
       "      <th>address</th>\n",
       "      <th>income</th>\n",
       "      <th>ed</th>\n",
       "      <th>employ</th>\n",
       "      <th>retire</th>\n",
       "      <th>gender</th>\n",
       "      <th>reside</th>\n",
       "      <th>custcat</th>\n",
       "    </tr>\n",
       "  </thead>\n",
       "  <tbody>\n",
       "    <tr>\n",
       "      <th>0</th>\n",
       "      <td>2</td>\n",
       "      <td>13</td>\n",
       "      <td>44</td>\n",
       "      <td>1</td>\n",
       "      <td>9</td>\n",
       "      <td>64.0</td>\n",
       "      <td>4</td>\n",
       "      <td>5</td>\n",
       "      <td>0.0</td>\n",
       "      <td>0</td>\n",
       "      <td>2</td>\n",
       "      <td>1</td>\n",
       "    </tr>\n",
       "    <tr>\n",
       "      <th>1</th>\n",
       "      <td>3</td>\n",
       "      <td>11</td>\n",
       "      <td>33</td>\n",
       "      <td>1</td>\n",
       "      <td>7</td>\n",
       "      <td>136.0</td>\n",
       "      <td>5</td>\n",
       "      <td>5</td>\n",
       "      <td>0.0</td>\n",
       "      <td>0</td>\n",
       "      <td>6</td>\n",
       "      <td>4</td>\n",
       "    </tr>\n",
       "    <tr>\n",
       "      <th>2</th>\n",
       "      <td>3</td>\n",
       "      <td>68</td>\n",
       "      <td>52</td>\n",
       "      <td>1</td>\n",
       "      <td>24</td>\n",
       "      <td>116.0</td>\n",
       "      <td>1</td>\n",
       "      <td>29</td>\n",
       "      <td>0.0</td>\n",
       "      <td>1</td>\n",
       "      <td>2</td>\n",
       "      <td>3</td>\n",
       "    </tr>\n",
       "    <tr>\n",
       "      <th>3</th>\n",
       "      <td>2</td>\n",
       "      <td>33</td>\n",
       "      <td>33</td>\n",
       "      <td>0</td>\n",
       "      <td>12</td>\n",
       "      <td>33.0</td>\n",
       "      <td>2</td>\n",
       "      <td>0</td>\n",
       "      <td>0.0</td>\n",
       "      <td>1</td>\n",
       "      <td>1</td>\n",
       "      <td>1</td>\n",
       "    </tr>\n",
       "    <tr>\n",
       "      <th>4</th>\n",
       "      <td>2</td>\n",
       "      <td>23</td>\n",
       "      <td>30</td>\n",
       "      <td>1</td>\n",
       "      <td>9</td>\n",
       "      <td>30.0</td>\n",
       "      <td>1</td>\n",
       "      <td>2</td>\n",
       "      <td>0.0</td>\n",
       "      <td>0</td>\n",
       "      <td>4</td>\n",
       "      <td>3</td>\n",
       "    </tr>\n",
       "  </tbody>\n",
       "</table>\n",
       "</div>"
      ],
      "text/plain": [
       "   region  tenure  age  marital  address  income  ed  employ  retire  gender  \\\n",
       "0       2      13   44        1        9    64.0   4       5     0.0       0   \n",
       "1       3      11   33        1        7   136.0   5       5     0.0       0   \n",
       "2       3      68   52        1       24   116.0   1      29     0.0       1   \n",
       "3       2      33   33        0       12    33.0   2       0     0.0       1   \n",
       "4       2      23   30        1        9    30.0   1       2     0.0       0   \n",
       "\n",
       "   reside  custcat  \n",
       "0       2        1  \n",
       "1       6        4  \n",
       "2       2        3  \n",
       "3       1        1  \n",
       "4       4        3  "
      ]
     },
     "execution_count": 13,
     "metadata": {},
     "output_type": "execute_result"
    }
   ],
   "source": [
    "df = pd.read_csv('teleCust1000t.csv')\n",
    "df.head()"
   ]
  },
  {
   "cell_type": "markdown",
   "metadata": {},
   "source": [
    "### Data Visualization and Analysis\n"
   ]
  },
  {
   "cell_type": "code",
   "execution_count": 14,
   "metadata": {},
   "outputs": [
    {
     "data": {
      "text/plain": [
       "custcat\n",
       "3    281\n",
       "1    266\n",
       "4    236\n",
       "2    217\n",
       "Name: count, dtype: int64"
      ]
     },
     "execution_count": 14,
     "metadata": {},
     "output_type": "execute_result"
    }
   ],
   "source": [
    "df['custcat'].value_counts()"
   ]
  },
  {
   "cell_type": "markdown",
   "metadata": {},
   "source": [
    "### Feature set"
   ]
  },
  {
   "cell_type": "markdown",
   "metadata": {},
   "source": [
    "Lets define feature sets, X:"
   ]
  },
  {
   "cell_type": "code",
   "execution_count": 15,
   "metadata": {},
   "outputs": [
    {
     "data": {
      "text/plain": [
       "Index(['region', 'tenure', 'age', 'marital', 'address', 'income', 'ed',\n",
       "       'employ', 'retire', 'gender', 'reside', 'custcat'],\n",
       "      dtype='object')"
      ]
     },
     "execution_count": 15,
     "metadata": {},
     "output_type": "execute_result"
    }
   ],
   "source": [
    "df.columns"
   ]
  },
  {
   "cell_type": "markdown",
   "metadata": {},
   "source": [
    "To use scikit-learn library, we have to convert the Pandas data frame to a Numpy array:"
   ]
  },
  {
   "cell_type": "code",
   "execution_count": 16,
   "metadata": {},
   "outputs": [
    {
     "data": {
      "text/plain": [
       "array([[  2.,  13.,  44.,   1.,   9.,  64.,   4.,   5.,   0.,   0.,   2.],\n",
       "       [  3.,  11.,  33.,   1.,   7., 136.,   5.,   5.,   0.,   0.,   6.],\n",
       "       [  3.,  68.,  52.,   1.,  24., 116.,   1.,  29.,   0.,   1.,   2.],\n",
       "       [  2.,  33.,  33.,   0.,  12.,  33.,   2.,   0.,   0.,   1.,   1.],\n",
       "       [  2.,  23.,  30.,   1.,   9.,  30.,   1.,   2.,   0.,   0.,   4.]])"
      ]
     },
     "execution_count": 16,
     "metadata": {},
     "output_type": "execute_result"
    }
   ],
   "source": [
    "X = df[['region', 'tenure','age', 'marital', 'address', 'income', 'ed', 'employ','retire', 'gender', 'reside']] .values  #.astype(float)\n",
    "X[0:5]\n"
   ]
  },
  {
   "cell_type": "code",
   "execution_count": 17,
   "metadata": {},
   "outputs": [
    {
     "data": {
      "text/plain": [
       "array([1, 4, 3, 1, 3], dtype=int64)"
      ]
     },
     "execution_count": 17,
     "metadata": {},
     "output_type": "execute_result"
    }
   ],
   "source": [
    "y = df['custcat'].values\n",
    "y[0:5]"
   ]
  },
  {
   "cell_type": "markdown",
   "metadata": {},
   "source": [
    "### Train Test Split\n",
    "Out of Sample Accuracy is the percentage of correct predictions that the model makes on data that that the model has NOT been trained on. Doing a train and test on the same dataset will most likely have low out-of-sample accuracy, due to the likelihood of being over-fit.\n",
    "\n",
    "It is important that our models have a high, out-of-sample accuracy, because the purpose of any model, of course, is to make correct predictions on unknown data. So how can we improve out-of-sample accuracy? One way is to use an evaluation approach called Train/Test Split. Train/Test Split involves splitting the dataset into training and testing sets respectively, which are mutually exclusive. After which, you train with the training set and test with the testing set.\n",
    "\n",
    "This will provide a more accurate evaluation on out-of-sample accuracy because the testing dataset is not part of the dataset that have been used to train the data. It is more realistic for real world problems."
   ]
  },
  {
   "cell_type": "code",
   "execution_count": 18,
   "metadata": {},
   "outputs": [
    {
     "name": "stdout",
     "output_type": "stream",
     "text": [
      "Train set: (800, 11) (800,)\n",
      "Test set: (200, 11) (200,)\n"
     ]
    }
   ],
   "source": [
    "from sklearn.model_selection import train_test_split\n",
    "X_train, X_test, y_train, y_test = train_test_split( X, y, test_size=0.20, random_state=4)\n",
    "print ('Train set:', X_train.shape,  y_train.shape)\n",
    "print ('Test set:', X_test.shape,  y_test.shape)"
   ]
  },
  {
   "cell_type": "code",
   "execution_count": 19,
   "metadata": {},
   "outputs": [
    {
     "name": "stdout",
     "output_type": "stream",
     "text": [
      "Accuracy 0.395\n",
      "Class Confusion Matrix\n",
      " [[30  6 10  5]\n",
      " [ 7 19  8 10]\n",
      " [15 14 17  8]\n",
      " [18  9 11 13]]\n"
     ]
    }
   ],
   "source": [
    "from sklearn.tree import DecisionTreeClassifier\n",
    "\n",
    "from sklearn.metrics import confusion_matrix\n",
    "\n",
    "\n",
    "decisiontree = DecisionTreeClassifier(random_state=0)\n",
    "model = decisiontree.fit(X_train, y_train)\n",
    "\n",
    "target_predicted=model.predict(X_test)\n",
    "print(\"Accuracy\", model.score(X_test, y_test))\n",
    "\n",
    "matrix = confusion_matrix(y_test, target_predicted)\n",
    "print(\"Class Confusion Matrix\\n\", matrix)\n",
    "\n"
   ]
  },
  {
   "cell_type": "markdown",
   "metadata": {},
   "source": [
    "### Discussion\n",
    "Decision tree learners attempt to find a decision rule that produces the greatest decrease in impurity at a node. While there are a number of measurements of impurity, by default `DecisionTreeClassifier` uses Gini impurity:\n",
    "$$\n",
    "G(t) = 1 - \\sum_{i=1}^c{p_i^2}\n",
    "$$\n",
    "where G(t) is the Gini impurity at node t and $p_i$ is the proportion of observations of class c at node t.\n",
    "\n",
    "This process of finding the decision rules that create splits to increase impurity is repeated recursively untill all leaf nodes are pure (i.e. contain only one class) or some abritary cut-off is reached\n",
    "\n",
    "We can change the `criterion` parameter to use a different impurity measurement"
   ]
  },
  {
   "cell_type": "code",
   "execution_count": 20,
   "metadata": {},
   "outputs": [
    {
     "name": "stdout",
     "output_type": "stream",
     "text": [
      "Accuracy 0.335\n",
      "Class Confusion Matrix\n",
      " [[23  9 10  9]\n",
      " [13 12  7 12]\n",
      " [14 16 17  7]\n",
      " [12 12 12 15]]\n"
     ]
    }
   ],
   "source": [
    "# create decision tree classifier using entropy\n",
    "decisiontree_entropy = DecisionTreeClassifier(criterion='entropy', random_state=0)\n",
    "\n",
    "model_entropy = decisiontree_entropy.fit(X_train, y_train)\n",
    "\n",
    "target_predicted=model_entropy.predict(X_test)\n",
    "print(\"Accuracy\", model_entropy.score(X_test, y_test))\n",
    "\n",
    "matrix = confusion_matrix(y_test, target_predicted)\n",
    "print(\"Class Confusion Matrix\\n\", matrix)\n",
    "\n"
   ]
  },
  {
   "cell_type": "code",
   "execution_count": 21,
   "metadata": {},
   "outputs": [
    {
     "name": "stdout",
     "output_type": "stream",
     "text": [
      "dogruluk:0.39\n",
      "confusion matrixi:\n",
      "[[29  0 14  8]\n",
      " [ 9  5 17 13]\n",
      " [22  2 27  3]\n",
      " [17  7 10 17]]\n"
     ]
    }
   ],
   "source": [
    "## Write your own code for decision tree by using Information Gain \n",
    "## Don't use ready code \n",
    "\n",
    "\n",
    "\n",
    "def entropi(a):\n",
    "    if len(a) == 0:\n",
    "        return 0\n",
    "\n",
    "    sayac = {}\n",
    "    for eleman in a:\n",
    "        if eleman in sayac:\n",
    "            sayac[eleman] += 1\n",
    "        else:\n",
    "            sayac[eleman] = 1\n",
    "\n",
    "    olasiliklar = []  \n",
    "    for deger in sayac.values():\n",
    "        olasilik = deger / len(a)\n",
    "        olasiliklar.append(olasilik)\n",
    "\n",
    "    sonuc = 0   \n",
    "    for olasilik in olasiliklar:\n",
    "        if olasilik > 0:\n",
    "            sonuc -= olasilik * np.log2(olasilik)\n",
    "    return sonuc\n",
    "\n",
    "def information_gain(a, b, ozellik_indeksi, esik_deger):\n",
    "    parent_entropi = entropi(b)\n",
    "    \n",
    "    sol_maske = a[:, ozellik_indeksi] <= esik_deger\n",
    "    sag_maske = ~sol_maske\n",
    "    \n",
    "    sol_entropi = entropi(b[sol_maske])\n",
    "    sag_entropi = entropi(b[sag_maske])\n",
    "    \n",
    "    n = len(b)   \n",
    "    n_sol = sum(sol_maske)\n",
    "    n_sag = sum(sag_maske)\n",
    "    \n",
    "    sol_agirlik = n_sol / n\n",
    "    sol_katki = sol_agirlik * sol_entropi\n",
    "    sag_agirlik = n_sag / n\n",
    "    sag_katki = sag_agirlik * sag_entropi\n",
    "    child_entropi = sol_katki + sag_katki\n",
    "\n",
    "    return parent_entropi - child_entropi\n",
    "\n",
    "def split(a, b, ozellik_indeksleri):\n",
    "    en_iyi_kazanc = -1\n",
    "    en_iyi_ozellik = None\n",
    "    en_iyi_esik_deger = None\n",
    "    \n",
    "    for ozellik_indeksi in ozellik_indeksleri:\n",
    "        esik_degerleri = np.unique(a[:, ozellik_indeksi])\n",
    "        \n",
    "        for esik_deger in esik_degerleri:\n",
    "            kazanc = information_gain(a, b, ozellik_indeksi, esik_deger)\n",
    "            \n",
    "            if kazanc > en_iyi_kazanc:\n",
    "                en_iyi_kazanc = kazanc\n",
    "                en_iyi_ozellik = ozellik_indeksi\n",
    "                en_iyi_esik_deger = esik_deger\n",
    "    \n",
    "    return en_iyi_ozellik, en_iyi_esik_deger, en_iyi_kazanc\n",
    "\n",
    "def en_cok_tekrar_eden(liste):\n",
    "    sayac = {}\n",
    "    for item in liste:\n",
    "        sayac[item] = sayac.get(item, 0) + 1\n",
    "    if not sayac:\n",
    "        return None, 0\n",
    "    en_cok = max(sayac, key=sayac.get)\n",
    "    return en_cok, sayac[en_cok]\n",
    "\n",
    "def agaci_olustur(a, b, derinlik=0, max_derinlik=None, kullanilan_ozellikler=None, ozellik_adlari=None):\n",
    "    if kullanilan_ozellikler is None:\n",
    "        kullanilan_ozellikler = set()\n",
    "\n",
    "    siniflar = np.unique(b)\n",
    "\n",
    "    if len(siniflar) == 1 or a.shape[1] == 0 or (max_derinlik is not None and derinlik >= max_derinlik):\n",
    "        en_cok_sinif, _ = en_cok_tekrar_eden(b.tolist())\n",
    "        return {'yaprak': True, 'deger': en_cok_sinif}\n",
    "\n",
    "    ozellik_indeksleri = [i for i in range(a.shape[1]) if i not in kullanilan_ozellikler]\n",
    "    if not ozellik_indeksleri:\n",
    "        en_cok_sinif, _ = en_cok_tekrar_eden(b.tolist())\n",
    "        return {'yaprak': True, 'deger': en_cok_sinif}\n",
    "\n",
    "    en_iyi_ozellik, en_iyi_esik_deger, en_iyi_kazanc = split(a, b, ozellik_indeksleri)\n",
    "\n",
    "    if en_iyi_kazanc == 0:\n",
    "        en_cok_sinif, _ = en_cok_tekrar_eden(b.tolist())\n",
    "        return {'yaprak': True, 'deger': en_cok_sinif}\n",
    "\n",
    "    sol_maske = a[:, en_iyi_ozellik] <= en_iyi_esik_deger\n",
    "    sag_maske = ~sol_maske\n",
    "    a_sol, b_sol = a[sol_maske], b[sol_maske]\n",
    "    a_sag, b_sag = a[sag_maske], b[sag_maske]\n",
    "\n",
    "    yeni_kullanilan_ozellikler = kullanilan_ozellikler.copy()\n",
    "    yeni_kullanilan_ozellikler.add(en_iyi_ozellik)\n",
    "\n",
    "    sol_alt_agac = agaci_olustur(a_sol, b_sol, derinlik + 1, max_derinlik, yeni_kullanilan_ozellikler, ozellik_adlari)\n",
    "    sag_alt_agac = agaci_olustur(a_sag, b_sag, derinlik + 1, max_derinlik, yeni_kullanilan_ozellikler, ozellik_adlari)\n",
    "\n",
    "    return {\n",
    "        'yaprak': False,\n",
    "        'ozellik': en_iyi_ozellik,\n",
    "        'esik_deger': en_iyi_esik_deger,\n",
    "        'sol': sol_alt_agac,\n",
    "        'sag': sag_alt_agac\n",
    "    }\n",
    "\n",
    "def tahmin(agac, X):\n",
    "    sonuclar = []\n",
    "    for x in X:\n",
    "        dugum = agac\n",
    "        while not dugum['yaprak']:\n",
    "            if x[dugum['ozellik']] <= dugum['esik_deger']:\n",
    "                dugum = dugum['sol']\n",
    "            else:\n",
    "                dugum = dugum['sag']\n",
    "        sonuclar.append(dugum['deger'])\n",
    "    return np.array(sonuclar)\n",
    "\n",
    "\n",
    "agac = agaci_olustur(X_train, y_train, max_derinlik=4, ozellik_adlari=df.columns[:-1].tolist())\n",
    "\n",
    "y_tahmin = tahmin(agac, X_test)\n",
    "\n",
    "dogruluk = np.mean(y_tahmin == y_test)\n",
    "print(f\"dogruluk:{dogruluk:.2f}\")\n",
    "\n",
    "cm = confusion_matrix(y_test, y_tahmin)\n",
    "print(\"confusion matrixi:\")\n",
    "print(cm)"
   ]
  },
  {
   "cell_type": "markdown",
   "metadata": {},
   "source": [
    "\n",
    "\n",
    "##  Visualizing a Decision Tree Model"
   ]
  },
  {
   "cell_type": "code",
   "execution_count": 22,
   "metadata": {
    "scrolled": true
   },
   "outputs": [
    {
     "data": {
      "image/png": "[encoded data removed]",
      "text/plain": [
       "<Figure size 2000x1000 with 1 Axes>"
      ]
     },
     "metadata": {},
     "output_type": "display_data"
    }
   ],
   "source": [
    "import pydotplus\n",
    "from sklearn.tree import DecisionTreeClassifier\n",
    "from IPython.display import Image\n",
    "from sklearn import tree\n",
    "import matplotlib.patches as patches\n",
    "\n",
    "\n",
    "## Write your own code to visualize tree with 4 levels\n",
    "\n",
    "\n",
    "\n",
    "def agaci_ciz(agac, ozellik_adlari=None, maksimum_derinlik=4):\n",
    "    plt.figure(figsize=(20, 10))\n",
    "    eksen = plt.gca()\n",
    "    eksen.set_axis_off()\n",
    "\n",
    "    def dugumu_ciz(dugum, x, y, genislik, yukseklik, derinlik=0):\n",
    "        if derinlik > maksimum_derinlik:\n",
    "            return\n",
    "\n",
    "        if dugum['yaprak']:\n",
    "            dugum_metni = f\"custcat: {dugum['deger']}\"\n",
    "        else:\n",
    "            ozellik_adi = ozellik_adlari[dugum['ozellik']] if ozellik_adlari else f\"ozellik_{dugum['ozellik']}\"\n",
    "            dugum_metni = f\"{ozellik_adi} <= {dugum['esik_deger']:.2f}\"\n",
    "\n",
    "        dikdortgen = patches.Rectangle((x - genislik / 2, y - yukseklik / 2), genislik, yukseklik, linewidth=1, edgecolor='white', facecolor='white')\n",
    "        \n",
    "        eksen.add_patch(dikdortgen)\n",
    "        \n",
    "        plt.text(x, y, dugum_metni, ha='center', va='center', fontsize=10, bbox=dict(facecolor='white', edgecolor='black', pad=3))\n",
    "\n",
    "        if not dugum['yaprak']:\n",
    "            sol_x = x - genislik / 2\n",
    "            sol_y = y - yukseklik\n",
    "            sag_x = x + genislik / 2\n",
    "            sag_y = y - yukseklik\n",
    "\n",
    "            plt.plot([x, sol_x], [y, sol_y], 'k-', linewidth=1)\n",
    "            plt.plot([x, sag_x], [y, sag_y], 'k-', linewidth=1)\n",
    "\n",
    "            dugumu_ciz(dugum['sol'], sol_x, sol_y, genislik / 2, yukseklik, derinlik + 1)\n",
    "            dugumu_ciz(dugum['sag'], sag_x, sag_y, genislik / 2, yukseklik, derinlik + 1)\n",
    "\n",
    "    if agac:\n",
    "        agac_yuksekligi = maksimum_derinlik\n",
    "        dugum_genisligi = 200\n",
    "        dugum_yuksekligi = 50\n",
    "        baslangic_x = plt.xlim()[1] / 2\n",
    "        baslangic_y = plt.ylim()[1] - 50\n",
    "\n",
    "        dugumu_ciz(agac, baslangic_x, baslangic_y, dugum_genisligi, dugum_yuksekligi)\n",
    "\n",
    "    plt.title(\"karar agaci\", fontsize=18)\n",
    "    plt.show()\n",
    "    \n",
    "agaci_ciz(agac, ozellik_adlari=df.columns[:-1].tolist())"
   ]
  },
  {
   "cell_type": "markdown",
   "metadata": {},
   "source": [
    "# Karsilastirma\n",
    "\n",
    "teleCust1000t verisi uzerinde 3 farkli karar agaci modeli uyguladik. \n",
    "\n",
    "Ilk olarak sklearn kutuphanesinin default parametreleri ile egitilen decisiontreeclassifier modelinde dogruluk 0.395 cikti. Bu model gini indeksini kullaniyor. Burada sinif 1 en iyi performansi gosterdi (30 dogru), digerlerinin karisikliklari yuksek.\n",
    "\n",
    "Accuracy 0.395\n",
    "Class Confusion Matrix\n",
    " [[30  6 10  5]\n",
    " [ 7 19  8 10]\n",
    " [15 14 17  8]\n",
    " [18  9 11 13]]\n",
    "\n",
    "\n",
    "Ikinci olarak, criterion parametresini entropi yaptik ve information gaini kullanan bir decisiontreeclassifier modelini train ettik, dogrulugu 0.335 cikti. Ilkinden daha dusuk. Sinif 4 perfomansi bir tik artti, digerleri dustu. Bu sonuca gore entropi bu veri setinde gini'den daha az etkili gibi gorunuyor. Hiperparamatreler optimize edilmemis olabilir.\n",
    "\n",
    "Accuracy 0.335\n",
    "Class Confusion Matrix\n",
    " [[23  9 10  9]\n",
    " [13 12  7 12]\n",
    " [14 16 17  7]\n",
    " [12 12 12 15]]\n",
    "\n",
    "\n",
    "Ucuncu olarak kendim information gain'e dayali bir agac olusturdum. Bu modelin dogrulugu 0.39 cikti. Bu sonuc sklearn'in default (gini) ayarlariyla egitilen modele cok yakin. Sinif 1 ve 3 iyi performans gosterdi, sinif 2 ise cok kotu. \n",
    "\n",
    "dogruluk:0.39\n",
    "confusion matrixi:\n",
    "[[29  0 14  8]\n",
    " [ 9  5 17 13]\n",
    " [22  2 27  3]\n",
    " [17  7 10 17]]\n"
   ]
  }
 ],
 "metadata": {
  "kernelspec": {
   "display_name": "Python 3",
   "language": "python",
   "name": "python3"
  },
  "language_info": {
   "codemirror_mode": {
    "name": "ipython",
    "version": 3
   },
   "file_extension": ".py",
   "mimetype": "text/x-python",
   "name": "python",
   "nbconvert_exporter": "python",
   "pygments_lexer": "ipython3",
   "version": "3.11.4"
  }
 },
 "nbformat": 4,
 "nbformat_minor": 2
}
